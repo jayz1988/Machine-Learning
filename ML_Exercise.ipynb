{
 "cells": [
  {
   "cell_type": "markdown",
   "metadata": {},
   "source": [
    "- Import Lib"
   ]
  },
  {
   "cell_type": "code",
   "execution_count": null,
   "metadata": {},
   "outputs": [],
   "source": [
    "import tensorflow as tf\n",
    "import pandas as pd\n",
    "import numpy as np"
   ]
  },
  {
   "cell_type": "markdown",
   "metadata": {},
   "source": [
    "- 데이터 전처리"
   ]
  },
  {
   "cell_type": "code",
   "execution_count": null,
   "metadata": {},
   "outputs": [],
   "source": [
    "# Data 전처리\n",
    "trainData = pd.read_csv('./gpascore.csv', encoding=\"cp949\")\n",
    "trainData = trainData.dropna()\n",
    "# trainData = trainData.fillna()\n",
    "# trainData.isnull().sum()\n",
    "\n",
    "yData = trainData['admit'].values\n",
    "xData = []\n",
    "for i, rows in trainData.iterrows():\n",
    "  xData.append([rows['gre'],rows['gpa'],rows['rank']])"
   ]
  },
  {
   "cell_type": "markdown",
   "metadata": {},
   "source": [
    "- 머신러인 구성"
   ]
  },
  {
   "cell_type": "code",
   "execution_count": null,
   "metadata": {},
   "outputs": [],
   "source": [
    "# 뉴럴 부분 layer(Hidden Layer) 구성\n",
    "model = tf.keras.models.Sequential([\n",
    "  # Dense 하나가 layer 층 한개, 괄호 안의 숫자는 (node 갯 수,activation function=)\n",
    "  # 마지막 layer에서 확률이 필요하면 0~1로 압축해 주는 sigmoid 사용 필요\n",
    "  tf.keras.layers.Dense(64,activation='tanh'),\n",
    "  tf.keras.layers.Dense(128,activation='tanh'),\n",
    "  tf.keras.layers.Dense(1,activation='sigmoid')\n",
    "])\n",
    "\n",
    "# 모델 컴파일을 해야 실행 가능\n",
    "model.compile(optimizer='adam', loss='binary_crossentropy', metrics=['accuracy'])\n",
    "\n",
    "# 학습 시키기 (x DATA=학습 데이터, y DATA=실제 정답,epochs=몇 번 학습 시킬건 지)\n",
    "# xData, yData의 자료형은 numpy array로 변환해야 함 (or tf tensor)\n",
    "model.fit(np.array(xData),np.array(yData),epochs=1000)"
   ]
  },
  {
   "cell_type": "markdown",
   "metadata": {},
   "source": [
    "- 예측"
   ]
  },
  {
   "cell_type": "code",
   "execution_count": null,
   "metadata": {},
   "outputs": [],
   "source": [
    "predict = model.predict([[750,3.70,3],[400,2.2,1]])\n",
    "print(predict)"
   ]
  }
 ],
 "metadata": {
  "kernelspec": {
   "display_name": "venv01",
   "language": "python",
   "name": "python3"
  },
  "language_info": {
   "codemirror_mode": {
    "name": "ipython",
    "version": 3
   },
   "file_extension": ".py",
   "mimetype": "text/x-python",
   "name": "python",
   "nbconvert_exporter": "python",
   "pygments_lexer": "ipython3",
   "version": "3.10.12"
  },
  "orig_nbformat": 4
 },
 "nbformat": 4,
 "nbformat_minor": 2
}
